{
 "cells": [
  {
   "cell_type": "markdown",
   "metadata": {},
   "source": [
    "# Support Vector Machine classifier\n"
   ]
  },
  {
   "cell_type": "code",
   "execution_count": 2,
   "metadata": {},
   "outputs": [
    {
     "name": "stdout",
     "output_type": "stream",
     "text": [
      "'Lamda_MAX_(micrometros)'     float64\n",
      "'Lamda_MIN_(micrometros)'     float64\n",
      "'Delta_Lamda_(rmse)'          float64\n",
      "'Radial Velocity (km s-1)'    float64\n",
      "'Delta_rv(ABSFERR)'           float64\n",
      "'Tempeartura_(Kelvin)'        float64\n",
      "'Delta_Temperatura'           float64\n",
      "'Tipo_de_Estrella'             object\n",
      "'Archivo'                      object\n",
      "dtype: object\n",
      "       'Lamda_MAX_(micrometros)'  'Lamda_MIN_(micrometros)'  \\\n",
      "count                 281.000000                 281.000000   \n",
      "mean                    4.330896                   0.812946   \n",
      "std                     1.002834                   0.024338   \n",
      "min                     2.410840                   0.801935   \n",
      "25%                     4.109770                   0.806027   \n",
      "50%                     4.942140                   0.808192   \n",
      "75%                     5.033480                   0.810740   \n",
      "max                     5.456760                   0.935314   \n",
      "\n",
      "       'Delta_Lamda_(rmse)'  'Radial Velocity (km s-1)'  'Delta_rv(ABSFERR)'  \\\n",
      "count          2.810000e+02                  281.000000           281.000000   \n",
      "mean           9.457881e-11                    4.951171             0.083719   \n",
      "std            4.419538e-10                   36.135562             0.059566   \n",
      "min            6.126425e-16                 -131.232620             0.009961   \n",
      "25%            1.873919e-12                  -13.636847             0.014964   \n",
      "50%            4.749543e-12                    4.951171             0.108678   \n",
      "75%            1.640233e-11                   21.219057             0.135640   \n",
      "max            4.347812e-09                  121.677930             0.201465   \n",
      "\n",
      "       'Tempeartura_(Kelvin)'  'Delta_Temperatura'  \n",
      "count              281.000000         2.810000e+02  \n",
      "mean              3694.864973         3.832317e-07  \n",
      "std               2146.068949         1.792317e-06  \n",
      "min               1195.636028         6.719151e-13  \n",
      "25%               2823.786228         7.684127e-09  \n",
      "50%               3540.523698         2.611316e-08  \n",
      "75%               4323.356510         7.331608e-08  \n",
      "max              36066.716455         1.722236e-05  \n"
     ]
    }
   ],
   "source": [
    "import pandas as pd\n",
    "import numpy as np\n",
    "from matplotlib import pyplot as plt\n",
    "\n",
    "dataset = pd.read_csv(\"data.csv\", na_values=[\"'NAN'\"])\n",
    "dataset = dataset.fillna(dataset.mean())\n",
    "\n",
    "print(dataset.dtypes)\n",
    "print(dataset.describe())\n",
    "\n",
    "dataset.columns = [\n",
    "    'Lamda_MAX_(micrometros)', 'Lamda_MIN_(micrometros)',\n",
    "    'Delta_Lamda_(rmse)', 'Radial Velocity (km s-1)', 'Delta_rv(ABSFERR)',\n",
    "    'Tempeartura_(Kelvin)', 'Delta_Temperatura', 'Tipo_de_Estrella', 'Archivo'\n",
    "]"
   ]
  },
  {
   "cell_type": "code",
   "execution_count": 3,
   "metadata": {},
   "outputs": [],
   "source": [
    "# import SVM algorithm, preprecessing tool and metrics tools \n",
    "from sklearn import svm\n",
    "from sklearn.model_selection import train_test_split\n",
    "from sklearn import metrics\n",
    "import seaborn as sns"
   ]
  },
  {
   "cell_type": "code",
   "execution_count": 4,
   "metadata": {},
   "outputs": [
    {
     "name": "stdout",
     "output_type": "stream",
     "text": [
      "['C' 'F' 'G' 'K' 'L' 'M' 'S' 'T']\n"
     ]
    }
   ],
   "source": [
    "X_train, X_test, y_train, y_test = train_test_split(\n",
    "    dataset[[\n",
    "        'Lamda_MAX_(micrometros)',\n",
    "        'Lamda_MIN_(micrometros)',\n",
    "        'Delta_Lamda_(rmse)',\n",
    "        'Radial Velocity (km s-1)',\n",
    "        'Delta_rv(ABSFERR)',\n",
    "        'Tempeartura_(Kelvin)',\n",
    "        'Delta_Temperatura'\n",
    "    ]],\n",
    "    dataset['Tipo_de_Estrella'],\n",
    "    test_size=0.3,\n",
    "    random_state=42\n",
    ")\n",
    "\n",
    "labels = np.unique(dataset['Tipo_de_Estrella'])\n",
    "print(labels)"
   ]
  },
  {
   "cell_type": "code",
   "execution_count": 5,
   "metadata": {},
   "outputs": [],
   "source": [
    "clf = svm.SVC(\n",
    "    kernel='rbf',\n",
    "    # probability=True\n",
    ")\n",
    "\n",
    "#Train the model using the training sets\n",
    "clf.fit(X_train, y_train)\n",
    "\n",
    "# #Predict the response for test dataset\n",
    "y_pred = clf.predict(X_test)\n",
    "\n",
    "X_test['preds'] = y_pred"
   ]
  },
  {
   "cell_type": "code",
   "execution_count": 8,
   "metadata": {},
   "outputs": [
    {
     "name": "stdout",
     "output_type": "stream",
     "text": [
      "['F' 'G' 'K' 'M']\n"
     ]
    },
    {
     "data": {
      "image/png": "[encoded data removed]",
      "text/plain": "<Figure size 432x288 with 1 Axes>"
     },
     "metadata": {
      "needs_background": "light"
     },
     "output_type": "display_data"
    }
   ],
   "source": [
    "# Gráfica temperatura vs logitud de onda máxima\n",
    "classes = np.unique(y_pred)\n",
    "print(classes)\n",
    "colors = sns.color_palette()\n",
    "\n",
    "fig, ax = plt.subplots()\n",
    "\n",
    "\n",
    "for i, c in enumerate(classes):\n",
    "    data = X_test.loc[X_test['preds'] == c]\n",
    "    ax.scatter(\n",
    "        'Lamda_MAX_(micrometros)',\n",
    "        'Tempeartura_(Kelvin)',\n",
    "        data=data,\n",
    "        color=colors[i],\n",
    "        label=c\n",
    "    )\n",
    "\n",
    "ax.set_title(\"Clasificación de estrellas\")\n",
    "ax.set_xlabel('Lamda_MAX_(micrometros)')\n",
    "ax.set_ylabel('Tempeartura_(Kelvin)')\n",
    "ax.legend()\n",
    "\n",
    "plt.show()\n",
    "\n"
   ]
  },
  {
   "cell_type": "code",
   "execution_count": 7,
   "metadata": {},
   "outputs": [
    {
     "name": "stdout",
     "output_type": "stream",
     "text": [
      "Matriz de confusión: \n",
      " [[ 0  0  0  1  0  1  0  0]\n",
      " [ 0  4 11  0  0  0  0  0]\n",
      " [ 0  0 17  1  0  0  0  0]\n",
      " [ 0  0  8  8  0  4  0  0]\n",
      " [ 0  0  0  0  0  3  0  0]\n",
      " [ 0  0  0  1  0 24  0  0]\n",
      " [ 0  0  0  0  0  1  0  0]\n",
      " [ 0  0  0  0  0  1  0  0]]\n",
      "\n",
      "Accuracy:\n",
      " 0.6235294117647059\n",
      "\n",
      "Recall:\n",
      " 0.6235294117647059\n",
      "\n",
      "Precision:\n",
      " 0.6235294117647059\n"
     ]
    }
   ],
   "source": [
    "# Matriz de confusión\n",
    "print(\"Matriz de confusión: \\n\", metrics.confusion_matrix(y_test, y_pred, labels=labels))\n",
    "\n",
    "# Acurracy\n",
    "print(\"\\nAccuracy:\\n\", metrics.accuracy_score(y_test, y_pred))\n",
    "\n",
    "# Recall\n",
    "print(\"\\nRecall:\\n\", metrics.recall_score(y_test, y_pred, average='micro'))\n",
    "\n",
    "# Precisión\n",
    "print(\"\\nPrecision:\\n\", metrics.precision_score(y_test, y_pred, average='micro'))\n",
    "\n",
    "# # AUC/ROC\n",
    "# print(\"\\nAUC:\\n\", metrics.roc_auc_score(\n",
    "#     y_test,\n",
    "#     clf.predict_proba(X_test),\n",
    "#     multi_class='ovr',\n",
    "#     labels=labels\n",
    "# ))\n"
   ]
  },
  {
   "cell_type": "code",
   "execution_count": null,
   "metadata": {},
   "outputs": [],
   "source": []
  }
 ],
 "metadata": {
  "kernelspec": {
   "display_name": "Python 3.7.9 64-bit ('venv': venv)",
   "name": "python379jvsc74a57bd0c7bbde9d0c0f2c2a198fd7b8b6b72a41b24eb5a40f194e51decf63c1af9736ae"
  },
  "language_info": {
   "codemirror_mode": {
    "name": "ipython",
    "version": 3
   },
   "file_extension": ".py",
   "mimetype": "text/x-python",
   "name": "python",
   "nbconvert_exporter": "python",
   "pygments_lexer": "ipython3",
   "version": "3.7.9"
  },
  "orig_nbformat": 2
 },
 "nbformat": 4,
 "nbformat_minor": 2
}