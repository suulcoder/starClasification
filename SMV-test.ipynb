{
 "metadata": {
  "language_info": {
   "codemirror_mode": {
    "name": "ipython",
    "version": 3
   },
   "file_extension": ".py",
   "mimetype": "text/x-python",
   "name": "python",
   "nbconvert_exporter": "python",
   "pygments_lexer": "ipython3",
   "version": "3.7.9"
  },
  "orig_nbformat": 2,
  "kernelspec": {
   "name": "python379jvsc74a57bd0c7bbde9d0c0f2c2a198fd7b8b6b72a41b24eb5a40f194e51decf63c1af9736ae",
   "display_name": "Python 3.7.9 64-bit"
  }
 },
 "nbformat": 4,
 "nbformat_minor": 2,
 "cells": [
  {
   "source": [
    "# Support Vector Machine classifier\n"
   ],
   "cell_type": "markdown",
   "metadata": {}
  },
  {
   "cell_type": "code",
   "execution_count": 69,
   "metadata": {},
   "outputs": [
    {
     "output_type": "stream",
     "name": "stdout",
     "text": [
      "'Lamda_MAX_(micrometros)'     float64\n'Lamda_MIN_(micrometros)'     float64\n'Delta_Lamda_(rmse)'          float64\n'Radial Velocity (km s-1)'    float64\n'Delta_rv(ABSFERR)'           float64\n'Tempeartura_(Kelvin)'        float64\n'Delta_Temperatura'           float64\n'Tipo_de_Estrella'             object\n'Archivo'                      object\ndtype: object\n       'Lamda_MAX_(micrometros)'  'Lamda_MIN_(micrometros)'  \\\ncount                 281.000000                 281.000000   \nmean                    4.330896                   0.812946   \nstd                     1.002834                   0.024338   \nmin                     2.410840                   0.801935   \n25%                     4.109770                   0.806027   \n50%                     4.942140                   0.808192   \n75%                     5.033480                   0.810740   \nmax                     5.456760                   0.935314   \n\n       'Delta_Lamda_(rmse)'  'Radial Velocity (km s-1)'  'Delta_rv(ABSFERR)'  \\\ncount          2.810000e+02                  281.000000           281.000000   \nmean           9.457881e-11                    4.951171             0.083719   \nstd            4.419538e-10                   36.135562             0.059566   \nmin            6.126425e-16                 -131.232620             0.009961   \n25%            1.873919e-12                  -13.636847             0.014964   \n50%            4.749543e-12                    4.951171             0.108678   \n75%            1.640233e-11                   21.219057             0.135640   \nmax            4.347812e-09                  121.677930             0.201465   \n\n       'Tempeartura_(Kelvin)'  'Delta_Temperatura'  \ncount              281.000000         2.810000e+02  \nmean              3694.864973         3.832317e-07  \nstd               2146.068949         1.792317e-06  \nmin               1195.636028         6.719151e-13  \n25%               2823.786228         7.684127e-09  \n50%               3540.523698         2.611316e-08  \n75%               4323.356510         7.331608e-08  \nmax              36066.716455         1.722236e-05  \n"
     ]
    }
   ],
   "source": [
    "import pandas as pd\n",
    "import numpy as np\n",
    "\n",
    "dataset = pd.read_csv(\"data.csv\", na_values=[\"'NAN'\"])\n",
    "dataset = dataset.fillna(dataset.mean())\n",
    "\n",
    "print(dataset.dtypes)\n",
    "print(dataset.describe())\n",
    "\n",
    "dataset.columns = ['Lamda_MAX_(micrometros)', 'Lamda_MIN_(micrometros)', 'Delta_Lamda_(rmse)', 'Radial Velocity (km s-1)', 'Delta_rv(ABSFERR)', 'Tempeartura_(Kelvin)', 'Delta_Temperatura', 'Tipo_de_Estrella', 'Archivo']"
   ]
  },
  {
   "cell_type": "code",
   "execution_count": 70,
   "metadata": {},
   "outputs": [],
   "source": [
    "# import SVM algorithm, preprecessing tool and metrics tools \n",
    "from sklearn import svm\n",
    "from sklearn.model_selection import train_test_split\n",
    "from sklearn import metrics"
   ]
  },
  {
   "cell_type": "code",
   "execution_count": 71,
   "metadata": {},
   "outputs": [],
   "source": [
    "X_train, X_test, y_train, y_test = train_test_split(\n",
    "    dataset[['Lamda_MAX_(micrometros)', 'Lamda_MIN_(micrometros)', 'Delta_Lamda_(rmse)', 'Radial Velocity (km s-1)', 'Delta_rv(ABSFERR)', 'Tempeartura_(Kelvin)', 'Delta_Temperatura']],\n",
    "    dataset['Tipo_de_Estrella'],\n",
    "    test_size=0.3,\n",
    "    random_state=42\n",
    ")"
   ]
  },
  {
   "cell_type": "code",
   "execution_count": 72,
   "metadata": {},
   "outputs": [],
   "source": [
    "clf = svm.SVC(kernel='rbf')\n",
    "\n",
    "#Train the model using the training sets\n",
    "clf.fit(X_train, y_train)\n",
    "\n",
    "# #Predict the response for test dataset\n",
    "y_pred = clf.predict(X_test)"
   ]
  },
  {
   "cell_type": "code",
   "execution_count": 73,
   "metadata": {},
   "outputs": [
    {
     "output_type": "stream",
     "name": "stdout",
     "text": [
      "Accuracy: 0.6235294117647059\n"
     ]
    }
   ],
   "source": [
    "print(\"Accuracy:\", metrics.accuracy_score(y_test, y_pred))\n",
    "# print(\"Precision:\", metrics.precision_score(y_test, y_pred))\n",
    "# print(\"Recall:\", metrics.recall_score(y_test, y_pred))"
   ]
  },
  {
   "cell_type": "code",
   "execution_count": null,
   "metadata": {},
   "outputs": [],
   "source": []
  }
 ]
}