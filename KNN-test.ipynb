{
 "cells": [
  {
   "cell_type": "markdown",
   "metadata": {},
   "source": [
    "# K-Nearest-Neighbors Classifier\n"
   ]
  },
  {
   "cell_type": "code",
   "execution_count": 6,
   "metadata": {},
   "outputs": [
    {
     "name": "stdout",
     "output_type": "stream",
     "text": [
      "'Lamda_MAX_(micrometros)'     float64\n",
      "'Lamda_MIN_(micrometros)'     float64\n",
      "'Delta_Lamda_(rmse)'          float64\n",
      "'Radial Velocity (km s-1)'    float64\n",
      "'Delta_rv(ABSFERR)'           float64\n",
      "'Tempeartura_(Kelvin)'        float64\n",
      "'Delta_Temperatura'           float64\n",
      "'Tipo_de_Estrella'             object\n",
      "'Archivo'                      object\n",
      "dtype: object\n",
      "       'Lamda_MAX_(micrometros)'  'Lamda_MIN_(micrometros)'  \\\n",
      "count                 281.000000                 281.000000   \n",
      "mean                    4.330896                   0.812946   \n",
      "std                     1.002834                   0.024338   \n",
      "min                     2.410840                   0.801935   \n",
      "25%                     4.109770                   0.806027   \n",
      "50%                     4.942140                   0.808192   \n",
      "75%                     5.033480                   0.810740   \n",
      "max                     5.456760                   0.935314   \n",
      "\n",
      "       'Delta_Lamda_(rmse)'  'Radial Velocity (km s-1)'  'Delta_rv(ABSFERR)'  \\\n",
      "count          2.810000e+02                  281.000000           281.000000   \n",
      "mean           9.457881e-11                    4.951171             0.083719   \n",
      "std            4.419538e-10                   36.135562             0.059566   \n",
      "min            6.126425e-16                 -131.232620             0.009961   \n",
      "25%            1.873919e-12                  -13.636847             0.014964   \n",
      "50%            4.749543e-12                    4.951171             0.108678   \n",
      "75%            1.640233e-11                   21.219057             0.135640   \n",
      "max            4.347812e-09                  121.677930             0.201465   \n",
      "\n",
      "       'Tempeartura_(Kelvin)'  'Delta_Temperatura'  \n",
      "count              281.000000         2.810000e+02  \n",
      "mean              3694.864973         3.832317e-07  \n",
      "std               2146.068949         1.792317e-06  \n",
      "min               1195.636028         6.719151e-13  \n",
      "25%               2823.786228         7.684127e-09  \n",
      "50%               3540.523698         2.611316e-08  \n",
      "75%               4323.356510         7.331608e-08  \n",
      "max              36066.716455         1.722236e-05  \n"
     ]
    }
   ],
   "source": [
    "import pandas as pd\n",
    "import numpy as np\n",
    "import seaborn as sns\n",
    "\n",
    "dataset = pd.read_csv(\"data.csv\", na_values=[\"'NAN'\"])\n",
    "dataset = dataset.fillna(dataset.mean())\n",
    "\n",
    "print(dataset.dtypes)\n",
    "print(dataset.describe())\n",
    "\n",
    "dataset.columns = ['Lamda_MAX_(micrometros)', 'Lamda_MIN_(micrometros)', 'Delta_Lamda_(rmse)', 'Radial Velocity (km s-1)', 'Delta_rv(ABSFERR)', 'Tempeartura_(Kelvin)', 'Delta_Temperatura', 'Tipo_de_Estrella', 'Archivo']"
   ]
  },
  {
   "cell_type": "code",
   "execution_count": 7,
   "metadata": {},
   "outputs": [],
   "source": [
    "# import knn algorithm, preprocessing tool and metrics tools\n",
    "\n",
    "from sklearn import neighbors, datasets\n",
    "from sklearn.model_selection import train_test_split\n",
    "from sklearn import metrics\n",
    "from sklearn.metrics import confusion_matrix\n",
    "from sklearn.preprocessing import label_binarize\n",
    "import matplotlib.pyplot as plt\n",
    "%matplotlib inline\n"
   ]
  },
  {
   "cell_type": "code",
   "execution_count": 8,
   "metadata": {},
   "outputs": [],
   "source": [
    "# Create training sets\n",
    "\n",
    "X_train, X_test, y_train, y_test = train_test_split(\n",
    "    dataset[['Lamda_MAX_(micrometros)', 'Lamda_MIN_(micrometros)', 'Delta_Lamda_(rmse)', 'Radial Velocity (km s-1)', 'Delta_rv(ABSFERR)', 'Tempeartura_(Kelvin)', 'Delta_Temperatura']],\n",
    "    dataset['Tipo_de_Estrella'],\n",
    "    test_size=0.4,\n",
    "    random_state=42\n",
    ")"
   ]
  },
  {
   "cell_type": "code",
   "execution_count": 11,
   "metadata": {},
   "outputs": [
    {
     "name": "stdout",
     "output_type": "stream",
     "text": [
      "     Lamda_MAX_(micrometros)  Lamda_MIN_(micrometros)  Delta_Lamda_(rmse)  \\\n",
      "33                   2.42274                 0.802363        1.610110e-11   \n",
      "158                  4.96898                 0.809776        5.038692e-12   \n",
      "249                  4.90650                 0.808303        1.640422e-11   \n",
      "260                  5.42905                 0.807616        1.603585e-12   \n",
      "101                  4.94273                 0.811689        4.073467e-12   \n",
      "..                       ...                      ...                 ...   \n",
      "69                   4.17477                 0.806522        3.709147e-12   \n",
      "172                  2.41840                 0.809134        2.671430e-11   \n",
      "2                    4.17790                 0.806160        2.292422e-10   \n",
      "104                  4.11498                 0.811033        2.477006e-11   \n",
      "76                   2.41772                 0.812066        6.218369e-12   \n",
      "\n",
      "     Radial Velocity (km s-1)  Delta_rv(ABSFERR)  Tempeartura_(Kelvin)  \\\n",
      "33                  32.711078           0.142046           4919.608143   \n",
      "158                  4.794375           0.160676           3360.432347   \n",
      "249                104.804680           0.120645           3018.333333   \n",
      "260                 -4.162142           0.144107           3298.612297   \n",
      "101                -11.583627           0.035330           3896.247092   \n",
      "..                        ...                ...                   ...   \n",
      "69                 -10.151757           0.036164           4296.305083   \n",
      "172                -21.449112           0.117078           3116.737837   \n",
      "2                   12.294700           0.172684           2345.589069   \n",
      "104                -17.217517           0.165002           4086.594739   \n",
      "76                  -6.003349           0.135188           4297.834470   \n",
      "\n",
      "     Delta_Temperatura  \n",
      "33        1.344863e-07  \n",
      "158       1.963675e-08  \n",
      "249       5.157648e-08  \n",
      "260       6.021658e-09  \n",
      "101       2.134119e-08  \n",
      "..                 ...  \n",
      "69        2.362794e-08  \n",
      "172       8.955832e-08  \n",
      "2         4.352713e-07  \n",
      "104       1.427617e-07  \n",
      "76        3.964035e-08  \n",
      "\n",
      "[113 rows x 7 columns]\n",
      "['F' 'M' 'M' 'M' 'K' 'F' 'G' 'M' 'G' 'K' 'K' 'G' 'K' 'L' 'F' 'C' 'G' 'G'\n",
      " 'G' 'K' 'L' 'M' 'K' 'M' 'G' 'G' 'G' 'G' 'M' 'L' 'G' 'G' 'G' 'M' 'K' 'F'\n",
      " 'F' 'F' 'M' 'M' 'G' 'M' 'M' 'K' 'M' 'M' 'M' 'K' 'M' 'G' 'F' 'G' 'F' 'K'\n",
      " 'M' 'F' 'K' 'G' 'M' 'L' 'K' 'K' 'M' 'M' 'G' 'G' 'M' 'F' 'F' 'K' 'M' 'G'\n",
      " 'M' 'G' 'K' 'M' 'M' 'M' 'G' 'M' 'M' 'K' 'M' 'G' 'K' 'G' 'L' 'K' 'G' 'M'\n",
      " 'G' 'G' 'K' 'K' 'L' 'M' 'F' 'M' 'K' 'M' 'K' 'M' 'G' 'M' 'G' 'L' 'M' 'M'\n",
      " 'G' 'M' 'M' 'G' 'G']\n"
     ]
    }
   ],
   "source": [
    "# Create the model\n",
    "clf = neighbors.KNeighborsClassifier(n_neighbors=16, weights='distance')\n",
    "\n",
    "# Train the model using the training sets\n",
    "clf.fit(X_train, y_train)\n",
    "\n",
    "y_score = clf.fit(X_train, y_train)\n",
    "\n",
    "# Predict Output\n",
    "y_pred = clf.predict(X_test)\n",
    "print(X_test)\n",
    "print(y_pred)\n",
    "\n",
    "X_test['preds'] = y_pred"
   ]
  },
  {
   "cell_type": "code",
   "execution_count": 12,
   "metadata": {},
   "outputs": [
    {
     "name": "stdout",
     "output_type": "stream",
     "text": [
      "['C' 'F' 'G' 'K' 'L' 'M']\n"
     ]
    },
    {
     "data": {
      "image/png": "[encoded data removed]",
      "text/plain": "<Figure size 432x288 with 1 Axes>"
     },
     "metadata": {
      "needs_background": "light"
     },
     "output_type": "display_data"
    }
   ],
   "source": [
    "classes = np.unique(y_pred)\n",
    "print(classes)\n",
    "colors = sns.color_palette()\n",
    "\n",
    "fig, ax = plt.subplots()\n",
    "\n",
    "for i, c in enumerate(classes):\n",
    "    data = X_test.loc[X_test['preds'] == c]\n",
    "    ax.scatter(\n",
    "        'Lamda_MAX_(micrometros)',\n",
    "        'Tempeartura_(Kelvin)',\n",
    "        data=data,\n",
    "        color=colors[i],\n",
    "        label=c\n",
    "    )\n",
    "\n",
    "ax.set_title(\"Clasificación de estrellas\")\n",
    "ax.set_xlabel('Lamda_MAX_(micrometros)')\n",
    "ax.set_ylabel('Tempeartura_(Kelvin)')\n",
    "ax.legend()\n",
    "\n",
    "plt.show()"
   ]
  },
  {
   "cell_type": "code",
   "execution_count": null,
   "metadata": {},
   "outputs": [
    {
     "name": "stdout",
     "output_type": "stream",
     "text": [
      "Confusion Matrix\n",
      "[[ 0  0  0  1  1  1  0  0]\n",
      " [ 0 11  6  0  0  0  0  0]\n",
      " [ 0  1 19  6  0  0  0  0]\n",
      " [ 0  0  7 12  0  9  0  0]\n",
      " [ 0  0  0  0  3  2  0  0]\n",
      " [ 0  0  0  3  3 26  0  0]\n",
      " [ 1  0  0  0  0  0  0  0]\n",
      " [ 0  0  0  0  0  1  0  0]]\n"
     ]
    }
   ],
   "source": [
    "print(\"Confusion Matrix\")\n",
    "print(confusion_matrix(y_test, y_pred))"
   ]
  },
  {
   "cell_type": "code",
   "execution_count": null,
   "metadata": {},
   "outputs": [
    {
     "name": "stdout",
     "output_type": "stream",
     "text": [
      "Accuracy: 0.6283185840707964\n",
      "Recall: 0.6283185840707964\n",
      "Precision: 0.6283185840707964\n"
     ]
    }
   ],
   "source": [
    "print(\"Accuracy:\", metrics.accuracy_score(y_test, y_pred))\n",
    "print(\"Recall:\", metrics.recall_score(y_test, y_pred, average='micro'))\n",
    "print(\"Precision:\", metrics.precision_score(y_test, y_pred, average='micro'))"
   ]
  }
 ],
 "metadata": {
  "kernelspec": {
   "display_name": "Python 3.7.9 64-bit ('venv': venv)",
   "name": "python379jvsc74a57bd0c7bbde9d0c0f2c2a198fd7b8b6b72a41b24eb5a40f194e51decf63c1af9736ae"
  },
  "language_info": {
   "codemirror_mode": {
    "name": "ipython",
    "version": 3
   },
   "file_extension": ".py",
   "mimetype": "text/x-python",
   "name": "python",
   "nbconvert_exporter": "python",
   "pygments_lexer": "ipython3",
   "version": "3.7.9"
  },
  "orig_nbformat": 3
 },
 "nbformat": 4,
 "nbformat_minor": 2
}